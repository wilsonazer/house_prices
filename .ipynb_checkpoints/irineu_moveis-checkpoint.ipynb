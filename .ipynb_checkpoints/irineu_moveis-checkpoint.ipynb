{
 "cells": [
  {
   "cell_type": "code",
   "execution_count": 5,
   "metadata": {},
   "outputs": [],
   "source": [
    "import pandas as pd\n",
    "from bs4 import BeautifulSoup\n",
    "import requests"
   ]
  },
  {
   "cell_type": "code",
   "execution_count": 3,
   "metadata": {},
   "outputs": [],
   "source": [
    "URL = \"https://irineuimoveis.com.br/imoveis/page/\"\n",
    "pages = 1\n",
    "URL_SUFIX =\"/?_offer_type=rent&_property_type%5B0%5D=apartamento&_cidade&_price_min=R%24%2010&_price_max=R%24%2020000000&_dormitorios&_vagas_de_garagem\""
   ]
  },
  {
   "cell_type": "code",
   "execution_count": 7,
   "metadata": {},
   "outputs": [],
   "source": [
    "r = requests.get(\"https://irineuimoveis.com.br/imoveis/page/3/?_offer_type=rent&_property_type%5B0%5D=apartamento&_cidade&_price_min=R%24%2010&_price_max=R%24%2020000000&_dormitorios&_vagas_de_garagem\")"
   ]
  },
  {
   "cell_type": "code",
   "execution_count": 57,
   "metadata": {},
   "outputs": [],
   "source": [
    "r = requests.get(\"https://irineuimoveis.com.br/imoveis/page/3/?_offer_type=rent&_property_type%5B0%5D=apartamento&_cidade&_price_min=R%24%2010&_price_max=R%24%2020000000&_dormitorios&_vagas_de_garagem\")\n",
    "soup = BeautifulSoup( r.content, \"html5lib\")\n",
    "listing_divs = soup.select('div[class*=listing-item]')"
   ]
  },
  {
   "cell_type": "code",
   "execution_count": 58,
   "metadata": {},
   "outputs": [
    {
     "data": {
      "text/plain": [
       "7"
      ]
     },
     "execution_count": 58,
     "metadata": {},
     "output_type": "execute_result"
    }
   ],
   "source": [
    "len(listing_divs)"
   ]
  },
  {
   "cell_type": "code",
   "execution_count": 69,
   "metadata": {},
   "outputs": [
    {
     "data": {
      "text/plain": [
       "'R$700  mensal '"
      ]
     },
     "execution_count": 69,
     "metadata": {},
     "output_type": "execute_result"
    }
   ],
   "source": [
    "listing_divs[0].select(\"span[class*=listing-price]\")[0].text"
   ]
  },
  {
   "cell_type": "code",
   "execution_count": 70,
   "metadata": {},
   "outputs": [
    {
     "data": {
      "text/plain": [
       "'Apartamento em Nova Brasília – IR3644'"
      ]
     },
     "execution_count": 70,
     "metadata": {},
     "output_type": "execute_result"
    }
   ],
   "source": [
    "listing_divs[0].select(\"h4\")[0].text"
   ]
  },
  {
   "cell_type": "code",
   "execution_count": 34,
   "metadata": {},
   "outputs": [
    {
     "data": {
      "text/plain": [
       "[]"
      ]
     },
     "execution_count": 34,
     "metadata": {},
     "output_type": "execute_result"
    }
   ],
   "source": [
    "\n",
    "imagem"
   ]
  },
  {
   "cell_type": "code",
   "execution_count": null,
   "metadata": {},
   "outputs": [],
   "source": []
  },
  {
   "cell_type": "code",
   "execution_count": null,
   "metadata": {},
   "outputs": [],
   "source": []
  },
  {
   "cell_type": "code",
   "execution_count": 77,
   "metadata": {},
   "outputs": [
    {
     "data": {
      "text/plain": [
       "[['R$700  mensal ', 'Apartamento ', ' Nova Brasília – IR3644'],\n",
       " ['R$1.000  mensal ', 'Apartamento ', ' Itaum – IR1600'],\n",
       " ['R$2.000  mensal ', 'Apartamento ', ' Guanabara – IR4274'],\n",
       " ['R$650  mensal ', 'Apartamento ', ' Guanabara – IR153'],\n",
       " ['R$1.500  mensal ', 'Apartamento ', ' Jardim Sofia – IR3982'],\n",
       " ['R$800  mensal ', 'Apartamento ', ' Costa e Silva – IR3921'],\n",
       " ['R$600  mensal ', 'Apartamento ', ' Paranaguamirim – IR745']]"
      ]
     },
     "execution_count": 77,
     "metadata": {},
     "output_type": "execute_result"
    }
   ],
   "source": [
    "r = requests.get(\"https://irineuimoveis.com.br/imoveis/page/3/?_offer_type=rent&_property_type%5B0%5D=apartamento&_cidade&_price_min=R%24%2010&_price_max=R%24%2020000000&_dormitorios&_vagas_de_garagem\")\n",
    "soup = BeautifulSoup( r.content, \"html5lib\")\n",
    "list_houses = soup.select('div[class*=listing-item]')\n",
    "\n",
    "all_houses = []\n",
    "\n",
    "def parse_data(list_houses):\n",
    "    for idx in range(len(list_houses)):\n",
    "        one_house = []\n",
    "        current = list_houses[idx]\n",
    "        preco = current.select(\"span[class*=listing-price]\")[0].text\n",
    "        \n",
    "        tipo_bairro =  current.select(\"h4\")[0].text\n",
    "        tb = tipo_bairro.split('em')\n",
    "        tipo = tb[0]\n",
    "        bairro = tb[1]\n",
    "        \n",
    "        one_house.append(preco)\n",
    "        one_house.append(tipo)\n",
    "        one_house.append(bairro)\n",
    "        \n",
    "        all_houses.append(one_house) \n",
    "    \n",
    "parse_data(list_houses)\n",
    "all_houses    "
   ]
  },
  {
   "cell_type": "code",
   "execution_count": 64,
   "metadata": {},
   "outputs": [
    {
     "data": {
      "text/plain": [
       "[['R$600  mensal ']]"
      ]
     },
     "execution_count": 64,
     "metadata": {},
     "output_type": "execute_result"
    }
   ],
   "source": [
    "all_houses"
   ]
  },
  {
   "cell_type": "code",
   "execution_count": 68,
   "metadata": {},
   "outputs": [
    {
     "data": {
      "text/html": [
       "<div>\n",
       "<style scoped>\n",
       "    .dataframe tbody tr th:only-of-type {\n",
       "        vertical-align: middle;\n",
       "    }\n",
       "\n",
       "    .dataframe tbody tr th {\n",
       "        vertical-align: top;\n",
       "    }\n",
       "\n",
       "    .dataframe thead th {\n",
       "        text-align: right;\n",
       "    }\n",
       "</style>\n",
       "<table border=\"1\" class=\"dataframe\">\n",
       "  <thead>\n",
       "    <tr style=\"text-align: right;\">\n",
       "      <th></th>\n",
       "      <th>preço</th>\n",
       "    </tr>\n",
       "  </thead>\n",
       "  <tbody>\n",
       "    <tr>\n",
       "      <th>0</th>\n",
       "      <td>R$700  mensal</td>\n",
       "    </tr>\n",
       "    <tr>\n",
       "      <th>1</th>\n",
       "      <td>R$1.000  mensal</td>\n",
       "    </tr>\n",
       "    <tr>\n",
       "      <th>2</th>\n",
       "      <td>R$2.000  mensal</td>\n",
       "    </tr>\n",
       "    <tr>\n",
       "      <th>3</th>\n",
       "      <td>R$650  mensal</td>\n",
       "    </tr>\n",
       "    <tr>\n",
       "      <th>4</th>\n",
       "      <td>R$1.500  mensal</td>\n",
       "    </tr>\n",
       "    <tr>\n",
       "      <th>5</th>\n",
       "      <td>R$800  mensal</td>\n",
       "    </tr>\n",
       "    <tr>\n",
       "      <th>6</th>\n",
       "      <td>R$600  mensal</td>\n",
       "    </tr>\n",
       "  </tbody>\n",
       "</table>\n",
       "</div>"
      ],
      "text/plain": [
       "              preço\n",
       "0    R$700  mensal \n",
       "1  R$1.000  mensal \n",
       "2  R$2.000  mensal \n",
       "3    R$650  mensal \n",
       "4  R$1.500  mensal \n",
       "5    R$800  mensal \n",
       "6    R$600  mensal "
      ]
     },
     "execution_count": 68,
     "metadata": {},
     "output_type": "execute_result"
    }
   ],
   "source": [
    "pd.DataFrame(all_houses, columns=['preço'])"
   ]
  },
  {
   "cell_type": "code",
   "execution_count": null,
   "metadata": {},
   "outputs": [],
   "source": []
  }
 ],
 "metadata": {
  "kernelspec": {
   "display_name": "Python 3",
   "language": "python",
   "name": "python3"
  },
  "language_info": {
   "codemirror_mode": {
    "name": "ipython",
    "version": 3
   },
   "file_extension": ".py",
   "mimetype": "text/x-python",
   "name": "python",
   "nbconvert_exporter": "python",
   "pygments_lexer": "ipython3",
   "version": "3.7.6"
  }
 },
 "nbformat": 4,
 "nbformat_minor": 4
}
