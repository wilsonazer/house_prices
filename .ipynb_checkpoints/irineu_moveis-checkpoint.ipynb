{
 "cells": [
  {
   "cell_type": "code",
   "execution_count": 4,
   "metadata": {},
   "outputs": [],
   "source": [
    "import pandas as pd\n",
    "from bs4 import BeautifulSoup\n",
    "import requests"
   ]
  },
  {
   "cell_type": "code",
   "execution_count": 2,
   "metadata": {},
   "outputs": [],
   "source": [
    "URL_BASE = \"https://irineuimoveis.com.br/imoveis/page/\"\n",
    "pages = 1\n",
    "URL_SUFIX =\"/?_offer_type=rent&_property_type%5B0%5D=apartamento&_cidade&_price_min=R%24%2010&_price_max=R%24%2020000000&_dormitorios&_vagas_de_garagem\""
   ]
  },
  {
   "cell_type": "code",
   "execution_count": 3,
   "metadata": {},
   "outputs": [],
   "source": [
    "r = requests.get(\"https://irineuimoveis.com.br/imoveis/page/3/?_offer_type=rent&_property_type%5B0%5D=apartamento&_cidade&_price_min=R%24%2010&_price_max=R%24%2020000000&_dormitorios&_vagas_de_garagem\")"
   ]
  },
  {
   "cell_type": "code",
   "execution_count": 15,
   "metadata": {},
   "outputs": [],
   "source": [
    "r = requests.get(\"https://irineuimoveis.com.br/imoveis/page/3/?_offer_type=rent&_property_type%5B0%5D=apartamento&_cidade&_price_min=R%24%2010&_price_max=R%24%2020000000&_dormitorios&_vagas_de_garagem\")\n",
    "soup = BeautifulSoup( r.content, \"html5lib\")\n",
    "listing_divs = soup.select('div[class*=listing-item]')"
   ]
  },
  {
   "cell_type": "code",
   "execution_count": 16,
   "metadata": {},
   "outputs": [
    {
     "data": {
      "text/plain": [
       "7"
      ]
     },
     "execution_count": 16,
     "metadata": {},
     "output_type": "execute_result"
    }
   ],
   "source": [
    "len(listing_divs)"
   ]
  },
  {
   "cell_type": "code",
   "execution_count": 6,
   "metadata": {},
   "outputs": [
    {
     "data": {
      "text/plain": [
       "'R$850  mensal '"
      ]
     },
     "execution_count": 6,
     "metadata": {},
     "output_type": "execute_result"
    }
   ],
   "source": [
    "listing_divs[0].select(\"span[class*=listing-price]\")[0].text"
   ]
  },
  {
   "cell_type": "code",
   "execution_count": 7,
   "metadata": {},
   "outputs": [
    {
     "data": {
      "text/plain": [
       "'Apartamento em Floresta – IR3469'"
      ]
     },
     "execution_count": 7,
     "metadata": {},
     "output_type": "execute_result"
    }
   ],
   "source": [
    "listing_divs[0].select(\"h4\")[0].text"
   ]
  },
  {
   "cell_type": "code",
   "execution_count": 8,
   "metadata": {},
   "outputs": [
    {
     "data": {
      "text/plain": [
       "'https://irineuimoveis.com.br/imovel/apartamento-em-floresta-ir3469/'"
      ]
     },
     "execution_count": 8,
     "metadata": {},
     "output_type": "execute_result"
    }
   ],
   "source": [
    "listing_divs[0].select(\"a[class=listing-img-container]\")[0]['href']"
   ]
  },
  {
   "cell_type": "code",
   "execution_count": 19,
   "metadata": {},
   "outputs": [
    {
     "data": {
      "text/plain": [
       "'https://irineuimoveis.com.br/wp-content/uploads/arquivos/fotos/IR3469/i1950_32655af5a641d22d9-520x397c.jpg'"
      ]
     },
     "execution_count": 19,
     "metadata": {},
     "output_type": "execute_result"
    }
   ],
   "source": [
    "listing_divs[0]['data-image']"
   ]
  },
  {
   "cell_type": "code",
   "execution_count": null,
   "metadata": {},
   "outputs": [],
   "source": []
  },
  {
   "cell_type": "code",
   "execution_count": 1,
   "metadata": {},
   "outputs": [
    {
     "ename": "NameError",
     "evalue": "name 'requests' is not defined",
     "output_type": "error",
     "traceback": [
      "\u001b[1;31m---------------------------------------------------------------------------\u001b[0m",
      "\u001b[1;31mNameError\u001b[0m                                 Traceback (most recent call last)",
      "\u001b[1;32m<ipython-input-1-197cf66a247e>\u001b[0m in \u001b[0;36m<module>\u001b[1;34m\u001b[0m\n\u001b[1;32m----> 1\u001b[1;33m \u001b[0mr\u001b[0m \u001b[1;33m=\u001b[0m \u001b[0mrequests\u001b[0m\u001b[1;33m.\u001b[0m\u001b[0mget\u001b[0m\u001b[1;33m(\u001b[0m\u001b[1;34m\"https://irineuimoveis.com.br/imoveis/page/3/?_offer_type=rent&_property_type%5B0%5D=apartamento&_cidade&_price_min=R%24%2010&_price_max=R%24%2020000000&_dormitorios&_vagas_de_garagem\"\u001b[0m\u001b[1;33m)\u001b[0m\u001b[1;33m\u001b[0m\u001b[1;33m\u001b[0m\u001b[0m\n\u001b[0m\u001b[0;32m      2\u001b[0m \u001b[0msoup\u001b[0m \u001b[1;33m=\u001b[0m \u001b[0mBeautifulSoup\u001b[0m\u001b[1;33m(\u001b[0m \u001b[0mr\u001b[0m\u001b[1;33m.\u001b[0m\u001b[0mcontent\u001b[0m\u001b[1;33m,\u001b[0m \u001b[1;34m\"html5lib\"\u001b[0m\u001b[1;33m)\u001b[0m\u001b[1;33m\u001b[0m\u001b[1;33m\u001b[0m\u001b[0m\n\u001b[0;32m      3\u001b[0m \u001b[0mlist_houses\u001b[0m \u001b[1;33m=\u001b[0m \u001b[0msoup\u001b[0m\u001b[1;33m.\u001b[0m\u001b[0mselect\u001b[0m\u001b[1;33m(\u001b[0m\u001b[1;34m'div[class*=listing-item]'\u001b[0m\u001b[1;33m)\u001b[0m\u001b[1;33m\u001b[0m\u001b[1;33m\u001b[0m\u001b[0m\n\u001b[0;32m      4\u001b[0m \u001b[1;33m\u001b[0m\u001b[0m\n\u001b[0;32m      5\u001b[0m \u001b[0mall_houses\u001b[0m \u001b[1;33m=\u001b[0m \u001b[1;33m[\u001b[0m\u001b[1;33m]\u001b[0m\u001b[1;33m\u001b[0m\u001b[1;33m\u001b[0m\u001b[0m\n",
      "\u001b[1;31mNameError\u001b[0m: name 'requests' is not defined"
     ]
    }
   ],
   "source": [
    "r = requests.get(\"https://irineuimoveis.com.br/imoveis/page/3/?_offer_type=rent&_property_type%5B0%5D=apartamento&_cidade&_price_min=R%24%2010&_price_max=R%24%2020000000&_dormitorios&_vagas_de_garagem\")\n",
    "soup = BeautifulSoup( r.content, \"html5lib\")\n",
    "list_houses = soup.select('div[class*=listing-item]')\n",
    "\n",
    "all_houses = []\n",
    "\n"
   ]
  },
  {
   "cell_type": "code",
   "execution_count": 8,
   "metadata": {},
   "outputs": [],
   "source": [
    "\"\"\"\n",
    "  Esta parte é funcional e está funcionando como se deve, esperando futuros ajustes\n",
    "\"\"\"\n",
    "\n",
    "\n",
    "URL_BASE = \"https://irineuimoveis.com.br/imoveis/page/\"\n",
    "pages = 1\n",
    "num_pages = 3\n",
    "URL_SUFIX =\"/?_offer_type=rent&_property_type%5B0%5D=apartamento&_cidade&_price_min=R%24%2010&_price_max=R%24%2020000000&_dormitorios&_vagas_de_garagem\"\n",
    "\n",
    "all_houses = []\n",
    "\n",
    "def parse_data(list_houses):\n",
    "    for idx in range(len(list_houses)):\n",
    "        one_house = []\n",
    "        current = list_houses[idx]\n",
    "        preco = current.select(\"span[class*=listing-price]\")[0].text\n",
    "        link = current.select(\"a[class=listing-img-container]\")[0]['href']\n",
    "        image = current['data-image']\n",
    "        imob = 'irineu'\n",
    "        \n",
    "        tipo_bairro =  current.select(\"h4\")[0].text\n",
    "        tb = tipo_bairro.split('em')\n",
    "        tipo = tb[0]\n",
    "        bairro = tb[1]\n",
    "        \n",
    "        one_house.append(preco)\n",
    "        one_house.append(tipo)\n",
    "        one_house.append(bairro)\n",
    "        one_house.append(link)\n",
    "        one_house.append(image)\n",
    "        one_house.append(imob)\n",
    "        \n",
    "        \n",
    "        all_houses.append(one_house) \n",
    "    \n",
    "\n",
    "for idx in range( num_pages ):\n",
    "    URL = URL_BASE + str(pages) + URL_SUFIX \n",
    "    r = requests.get(URL)\n",
    "    soup = BeautifulSoup( r.content, \"html5lib\")\n",
    "    list_divs = soup.select('div[class*=listing-item]')\n",
    "    parse_data( list_divs )\n",
    "    \n",
    "    pages +=1"
   ]
  },
  {
   "cell_type": "code",
   "execution_count": 26,
   "metadata": {},
   "outputs": [
    {
     "data": {
      "text/plain": [
       "['R$800  mensal ',\n",
       " 'Apartamento ',\n",
       " ' Costa E Silva – IR4419',\n",
       " 'https://irineuimoveis.com.br/imovel/apartamento-em-costa-e-silva-ir4419/',\n",
       " 'https://irineuimoveis.com.br/wp-content/uploads/arquivos/fotos/IR4419/iTPo1_42155e6a931656e0e.jpg',\n",
       " 'irineu']"
      ]
     },
     "execution_count": 26,
     "metadata": {},
     "output_type": "execute_result"
    }
   ],
   "source": []
  },
  {
   "cell_type": "code",
   "execution_count": 12,
   "metadata": {},
   "outputs": [],
   "source": [
    "irineu = pd.DataFrame(all_houses, columns=['preço','tipo','bairro','link','image','imobiliaria'])"
   ]
  },
  {
   "cell_type": "code",
   "execution_count": 14,
   "metadata": {},
   "outputs": [
    {
     "data": {
      "text/plain": [
       "27"
      ]
     },
     "execution_count": 14,
     "metadata": {},
     "output_type": "execute_result"
    }
   ],
   "source": [
    "len(irineu)"
   ]
  },
  {
   "cell_type": "code",
   "execution_count": 15,
   "metadata": {},
   "outputs": [
    {
     "data": {
      "text/html": [
       "<div>\n",
       "<style scoped>\n",
       "    .dataframe tbody tr th:only-of-type {\n",
       "        vertical-align: middle;\n",
       "    }\n",
       "\n",
       "    .dataframe tbody tr th {\n",
       "        vertical-align: top;\n",
       "    }\n",
       "\n",
       "    .dataframe thead th {\n",
       "        text-align: right;\n",
       "    }\n",
       "</style>\n",
       "<table border=\"1\" class=\"dataframe\">\n",
       "  <thead>\n",
       "    <tr style=\"text-align: right;\">\n",
       "      <th></th>\n",
       "      <th>preço</th>\n",
       "      <th>tipo</th>\n",
       "      <th>bairro</th>\n",
       "      <th>link</th>\n",
       "      <th>image</th>\n",
       "      <th>imobiliaria</th>\n",
       "    </tr>\n",
       "  </thead>\n",
       "  <tbody>\n",
       "    <tr>\n",
       "      <th>0</th>\n",
       "      <td>R$470  mensal</td>\n",
       "      <td>Apartamento</td>\n",
       "      <td>Paranaguamirim – IR205</td>\n",
       "      <td>https://irineuimoveis.com.br/imovel/apartament...</td>\n",
       "      <td>https://irineuimoveis.com.br/wp-content/upload...</td>\n",
       "      <td>irineu</td>\n",
       "    </tr>\n",
       "    <tr>\n",
       "      <th>1</th>\n",
       "      <td>R$470  mensal</td>\n",
       "      <td>Apartamento</td>\n",
       "      <td>Paranaguamirim – IR204</td>\n",
       "      <td>https://irineuimoveis.com.br/imovel/apartament...</td>\n",
       "      <td>https://irineuimoveis.com.br/wp-content/upload...</td>\n",
       "      <td>irineu</td>\n",
       "    </tr>\n",
       "    <tr>\n",
       "      <th>2</th>\n",
       "      <td>R$550  mensal</td>\n",
       "      <td>Apartamento</td>\n",
       "      <td>Paranaguamirim – IR201</td>\n",
       "      <td>https://irineuimoveis.com.br/imovel/apartament...</td>\n",
       "      <td>https://irineuimoveis.com.br/wp-content/upload...</td>\n",
       "      <td>irineu</td>\n",
       "    </tr>\n",
       "    <tr>\n",
       "      <th>3</th>\n",
       "      <td>R$600  mensal</td>\n",
       "      <td>Apartamento</td>\n",
       "      <td>Paranaguamirim – IR829</td>\n",
       "      <td>https://irineuimoveis.com.br/imovel/apartament...</td>\n",
       "      <td>https://irineuimoveis.com.br/wp-content/upload...</td>\n",
       "      <td>irineu</td>\n",
       "    </tr>\n",
       "    <tr>\n",
       "      <th>4</th>\n",
       "      <td>R$600  mensal</td>\n",
       "      <td>Apartamento</td>\n",
       "      <td>Paranaguamirim – IR782</td>\n",
       "      <td>https://irineuimoveis.com.br/imovel/apartament...</td>\n",
       "      <td>https://irineuimoveis.com.br/wp-content/upload...</td>\n",
       "      <td>irineu</td>\n",
       "    </tr>\n",
       "  </tbody>\n",
       "</table>\n",
       "</div>"
      ],
      "text/plain": [
       "            preço          tipo                   bairro  \\\n",
       "0  R$470  mensal   Apartamento    Paranaguamirim – IR205   \n",
       "1  R$470  mensal   Apartamento    Paranaguamirim – IR204   \n",
       "2  R$550  mensal   Apartamento    Paranaguamirim – IR201   \n",
       "3  R$600  mensal   Apartamento    Paranaguamirim – IR829   \n",
       "4  R$600  mensal   Apartamento    Paranaguamirim – IR782   \n",
       "\n",
       "                                                link  \\\n",
       "0  https://irineuimoveis.com.br/imovel/apartament...   \n",
       "1  https://irineuimoveis.com.br/imovel/apartament...   \n",
       "2  https://irineuimoveis.com.br/imovel/apartament...   \n",
       "3  https://irineuimoveis.com.br/imovel/apartament...   \n",
       "4  https://irineuimoveis.com.br/imovel/apartament...   \n",
       "\n",
       "                                               image imobiliaria  \n",
       "0  https://irineuimoveis.com.br/wp-content/upload...      irineu  \n",
       "1  https://irineuimoveis.com.br/wp-content/upload...      irineu  \n",
       "2  https://irineuimoveis.com.br/wp-content/upload...      irineu  \n",
       "3  https://irineuimoveis.com.br/wp-content/upload...      irineu  \n",
       "4  https://irineuimoveis.com.br/wp-content/upload...      irineu  "
      ]
     },
     "execution_count": 15,
     "metadata": {},
     "output_type": "execute_result"
    }
   ],
   "source": [
    "irineu.head()"
   ]
  },
  {
   "cell_type": "code",
   "execution_count": 16,
   "metadata": {},
   "outputs": [],
   "source": [
    "irineu.to_csv('irineu-imoveis.csv', index=False)"
   ]
  },
  {
   "cell_type": "code",
   "execution_count": null,
   "metadata": {},
   "outputs": [],
   "source": []
  },
  {
   "cell_type": "code",
   "execution_count": null,
   "metadata": {},
   "outputs": [],
   "source": []
  }
 ],
 "metadata": {
  "kernelspec": {
   "display_name": "Python 3",
   "language": "python",
   "name": "python3"
  },
  "language_info": {
   "codemirror_mode": {
    "name": "ipython",
    "version": 3
   },
   "file_extension": ".py",
   "mimetype": "text/x-python",
   "name": "python",
   "nbconvert_exporter": "python",
   "pygments_lexer": "ipython3",
   "version": "3.7.6"
  }
 },
 "nbformat": 4,
 "nbformat_minor": 4
}
