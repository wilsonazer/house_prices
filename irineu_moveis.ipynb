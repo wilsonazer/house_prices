{
 "cells": [
  {
   "cell_type": "code",
   "execution_count": 1,
   "metadata": {},
   "outputs": [],
   "source": [
    "import pandas as pd\n",
    "from bs4 import BeautifulSoup\n",
    "import requests"
   ]
  },
  {
   "cell_type": "code",
   "execution_count": 2,
   "metadata": {},
   "outputs": [],
   "source": [
    "URL_BASE = \"https://irineuimoveis.com.br/imoveis/page/\"\n",
    "pages = 1\n",
    "URL_SUFIX =\"/?_offer_type=rent&_property_type%5B0%5D=apartamento&_cidade&_price_min=R%24%2010&_price_max=R%24%2020000000&_dormitorios&_vagas_de_garagem\""
   ]
  },
  {
   "cell_type": "code",
   "execution_count": 3,
   "metadata": {},
   "outputs": [],
   "source": [
    "r = requests.get(\"https://irineuimoveis.com.br/imoveis/page/3/?_offer_type=rent&_property_type%5B0%5D=apartamento&_cidade&_price_min=R%24%2010&_price_max=R%24%2020000000&_dormitorios&_vagas_de_garagem\")"
   ]
  },
  {
   "cell_type": "code",
   "execution_count": 15,
   "metadata": {},
   "outputs": [],
   "source": [
    "r = requests.get(\"https://irineuimoveis.com.br/imoveis/page/3/?_offer_type=rent&_property_type%5B0%5D=apartamento&_cidade&_price_min=R%24%2010&_price_max=R%24%2020000000&_dormitorios&_vagas_de_garagem\")\n",
    "soup = BeautifulSoup( r.content, \"html5lib\")\n",
    "listing_divs = soup.select('div[class*=listing-item]')"
   ]
  },
  {
   "cell_type": "code",
   "execution_count": 16,
   "metadata": {},
   "outputs": [
    {
     "data": {
      "text/plain": [
       "7"
      ]
     },
     "execution_count": 16,
     "metadata": {},
     "output_type": "execute_result"
    }
   ],
   "source": [
    "len(listing_divs)"
   ]
  },
  {
   "cell_type": "code",
   "execution_count": 6,
   "metadata": {},
   "outputs": [
    {
     "data": {
      "text/plain": [
       "'R$850  mensal '"
      ]
     },
     "execution_count": 6,
     "metadata": {},
     "output_type": "execute_result"
    }
   ],
   "source": [
    "listing_divs[0].select(\"span[class*=listing-price]\")[0].text"
   ]
  },
  {
   "cell_type": "code",
   "execution_count": 7,
   "metadata": {},
   "outputs": [
    {
     "data": {
      "text/plain": [
       "'Apartamento em Floresta – IR3469'"
      ]
     },
     "execution_count": 7,
     "metadata": {},
     "output_type": "execute_result"
    }
   ],
   "source": [
    "listing_divs[0].select(\"h4\")[0].text"
   ]
  },
  {
   "cell_type": "code",
   "execution_count": 8,
   "metadata": {},
   "outputs": [
    {
     "data": {
      "text/plain": [
       "'https://irineuimoveis.com.br/imovel/apartamento-em-floresta-ir3469/'"
      ]
     },
     "execution_count": 8,
     "metadata": {},
     "output_type": "execute_result"
    }
   ],
   "source": [
    "listing_divs[0].select(\"a[class=listing-img-container]\")[0]['href']"
   ]
  },
  {
   "cell_type": "code",
   "execution_count": 19,
   "metadata": {},
   "outputs": [
    {
     "data": {
      "text/plain": [
       "'https://irineuimoveis.com.br/wp-content/uploads/arquivos/fotos/IR3469/i1950_32655af5a641d22d9-520x397c.jpg'"
      ]
     },
     "execution_count": 19,
     "metadata": {},
     "output_type": "execute_result"
    }
   ],
   "source": [
    "listing_divs[0]['data-image']"
   ]
  },
  {
   "cell_type": "code",
   "execution_count": null,
   "metadata": {},
   "outputs": [],
   "source": []
  },
  {
   "cell_type": "code",
   "execution_count": 22,
   "metadata": {},
   "outputs": [
    {
     "data": {
      "text/plain": [
       "[['R$850  mensal ',\n",
       "  'Apartamento ',\n",
       "  ' Floresta – IR3469',\n",
       "  'https://irineuimoveis.com.br/imovel/apartamento-em-floresta-ir3469/',\n",
       "  'https://irineuimoveis.com.br/wp-content/uploads/arquivos/fotos/IR3469/i1950_32655af5a641d22d9-520x397c.jpg'],\n",
       " ['R$800  mensal ',\n",
       "  'Apartamento ',\n",
       "  ' Costa E Silva – IR4419',\n",
       "  'https://irineuimoveis.com.br/imovel/apartamento-em-costa-e-silva-ir4419/',\n",
       "  'https://irineuimoveis.com.br/wp-content/uploads/arquivos/fotos/IR4419/iTPo1_42155e6a931656e0e.jpg'],\n",
       " ['R$350  mensal ',\n",
       "  'Apartamento ',\n",
       "  ' Porto Grande – IR2143',\n",
       "  'https://irineuimoveis.com.br/imovel/apartamento-em-porto-grande-ir2143/',\n",
       "  'https://irineuimoveis.com.br/wp-content/uploads/arquivos/fotos/IR2143/1707_2770.jpg'],\n",
       " ['R$850  mensal ',\n",
       "  'Apartamento ',\n",
       "  ' Itinga – IR3845',\n",
       "  'https://irineuimoveis.com.br/imovel/apartamento-em-itinga-ir3845/',\n",
       "  'https://irineuimoveis.com.br/wp-content/uploads/arquivos/fotos/IR3845/i067b54660b8L5iP20Y_36415c0fc27c02987.jpg'],\n",
       " ['R$500  mensal ',\n",
       "  'Apartamento ',\n",
       "  ' Boehmerwald – IR4422',\n",
       "  'https://irineuimoveis.com.br/imovel/apartamento-em-boehmerwald-ir4422/',\n",
       "  'https://irineuimoveis.com.br/wp-content/uploads/arquivos/fotos/IR4422/i9Z5182fd1N24313e2to2_42185e7b9661533cb.jpg'],\n",
       " ['R$1.420  mensal ',\n",
       "  'Apartamento ',\n",
       "  ' Boehmerwald – IR4408',\n",
       "  'https://irineuimoveis.com.br/imovel/apartamento-em-boehmerwald-ir4408/',\n",
       "  'https://irineuimoveis.com.br/wp-content/uploads/arquivos/fotos/IR4408/i1N3580031I_42045e5e9f3fe2fc9.jpg'],\n",
       " ['R$600  mensal ',\n",
       "  'Apartamento ',\n",
       "  ' Paranaguamirim – IR745',\n",
       "  'https://irineuimoveis.com.br/imovel/apartamento-em-paranaguamirim-ir745/',\n",
       "  'https://irineuimoveis.com.br/wp-content/uploads/arquivos/fotos/IR745/669_2317-520x397c.jpg']]"
      ]
     },
     "execution_count": 22,
     "metadata": {},
     "output_type": "execute_result"
    }
   ],
   "source": [
    "r = requests.get(\"https://irineuimoveis.com.br/imoveis/page/3/?_offer_type=rent&_property_type%5B0%5D=apartamento&_cidade&_price_min=R%24%2010&_price_max=R%24%2020000000&_dormitorios&_vagas_de_garagem\")\n",
    "soup = BeautifulSoup( r.content, \"html5lib\")\n",
    "list_houses = soup.select('div[class*=listing-item]')\n",
    "\n",
    "all_houses = []\n",
    "\n",
    "def parse_data(list_houses):\n",
    "    for idx in range(len(list_houses)):\n",
    "        one_house = []\n",
    "        current = list_houses[idx]\n",
    "        preco = current.select(\"span[class*=listing-price]\")[0].text\n",
    "        link = current.select(\"a[class=listing-img-container]\")[0]['href']\n",
    "        image = current['data-image']\n",
    "        \n",
    "        tipo_bairro =  current.select(\"h4\")[0].text\n",
    "        tb = tipo_bairro.split('em')\n",
    "        tipo = tb[0]\n",
    "        bairro = tb[1]\n",
    "        \n",
    "        one_house.append(preco)\n",
    "        one_house.append(tipo)\n",
    "        one_house.append(bairro)\n",
    "        one_house.append(link)\n",
    "        one_house.append(image)\n",
    "        \n",
    "        all_houses.append(one_house) \n",
    "    \n",
    "parse_data(list_houses)\n",
    "all_houses    "
   ]
  },
  {
   "cell_type": "code",
   "execution_count": 23,
   "metadata": {},
   "outputs": [
    {
     "data": {
      "text/plain": [
       "[['R$850  mensal ',\n",
       "  'Apartamento ',\n",
       "  ' Floresta – IR3469',\n",
       "  'https://irineuimoveis.com.br/imovel/apartamento-em-floresta-ir3469/',\n",
       "  'https://irineuimoveis.com.br/wp-content/uploads/arquivos/fotos/IR3469/i1950_32655af5a641d22d9-520x397c.jpg'],\n",
       " ['R$800  mensal ',\n",
       "  'Apartamento ',\n",
       "  ' Costa E Silva – IR4419',\n",
       "  'https://irineuimoveis.com.br/imovel/apartamento-em-costa-e-silva-ir4419/',\n",
       "  'https://irineuimoveis.com.br/wp-content/uploads/arquivos/fotos/IR4419/iTPo1_42155e6a931656e0e.jpg'],\n",
       " ['R$350  mensal ',\n",
       "  'Apartamento ',\n",
       "  ' Porto Grande – IR2143',\n",
       "  'https://irineuimoveis.com.br/imovel/apartamento-em-porto-grande-ir2143/',\n",
       "  'https://irineuimoveis.com.br/wp-content/uploads/arquivos/fotos/IR2143/1707_2770.jpg'],\n",
       " ['R$850  mensal ',\n",
       "  'Apartamento ',\n",
       "  ' Itinga – IR3845',\n",
       "  'https://irineuimoveis.com.br/imovel/apartamento-em-itinga-ir3845/',\n",
       "  'https://irineuimoveis.com.br/wp-content/uploads/arquivos/fotos/IR3845/i067b54660b8L5iP20Y_36415c0fc27c02987.jpg'],\n",
       " ['R$500  mensal ',\n",
       "  'Apartamento ',\n",
       "  ' Boehmerwald – IR4422',\n",
       "  'https://irineuimoveis.com.br/imovel/apartamento-em-boehmerwald-ir4422/',\n",
       "  'https://irineuimoveis.com.br/wp-content/uploads/arquivos/fotos/IR4422/i9Z5182fd1N24313e2to2_42185e7b9661533cb.jpg'],\n",
       " ['R$1.420  mensal ',\n",
       "  'Apartamento ',\n",
       "  ' Boehmerwald – IR4408',\n",
       "  'https://irineuimoveis.com.br/imovel/apartamento-em-boehmerwald-ir4408/',\n",
       "  'https://irineuimoveis.com.br/wp-content/uploads/arquivos/fotos/IR4408/i1N3580031I_42045e5e9f3fe2fc9.jpg'],\n",
       " ['R$600  mensal ',\n",
       "  'Apartamento ',\n",
       "  ' Paranaguamirim – IR745',\n",
       "  'https://irineuimoveis.com.br/imovel/apartamento-em-paranaguamirim-ir745/',\n",
       "  'https://irineuimoveis.com.br/wp-content/uploads/arquivos/fotos/IR745/669_2317-520x397c.jpg']]"
      ]
     },
     "execution_count": 23,
     "metadata": {},
     "output_type": "execute_result"
    }
   ],
   "source": [
    "all_houses"
   ]
  },
  {
   "cell_type": "code",
   "execution_count": null,
   "metadata": {},
   "outputs": [],
   "source": [
    "pd.DataFrame(all_houses, columns=['preço','tipo','bairro','link'])"
   ]
  },
  {
   "cell_type": "code",
   "execution_count": null,
   "metadata": {},
   "outputs": [],
   "source": []
  },
  {
   "cell_type": "code",
   "execution_count": null,
   "metadata": {},
   "outputs": [],
   "source": []
  }
 ],
 "metadata": {
  "kernelspec": {
   "display_name": "Python 3",
   "language": "python",
   "name": "python3"
  },
  "language_info": {
   "codemirror_mode": {
    "name": "ipython",
    "version": 3
   },
   "file_extension": ".py",
   "mimetype": "text/x-python",
   "name": "python",
   "nbconvert_exporter": "python",
   "pygments_lexer": "ipython3",
   "version": "3.7.6"
  }
 },
 "nbformat": 4,
 "nbformat_minor": 4
}
