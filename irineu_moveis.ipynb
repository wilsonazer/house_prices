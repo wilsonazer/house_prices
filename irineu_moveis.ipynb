{
 "cells": [
  {
   "cell_type": "code",
   "execution_count": 1,
   "metadata": {},
   "outputs": [],
   "source": [
    "import pandas as pd\n",
    "from bs4 import BeautifulSoup\n",
    "import requests"
   ]
  },
  {
   "cell_type": "code",
   "execution_count": 2,
   "metadata": {},
   "outputs": [],
   "source": [
    "URL_BASE = \"https://irineuimoveis.com.br/imoveis/page/\"\n",
    "pages = 1\n",
    "URL_SUFIX =\"/?_offer_type=rent&_property_type%5B0%5D=apartamento&_cidade&_price_min=R%24%2010&_price_max=R%24%2020000000&_dormitorios&_vagas_de_garagem\""
   ]
  },
  {
   "cell_type": "code",
   "execution_count": 3,
   "metadata": {},
   "outputs": [],
   "source": [
    "r = requests.get(\"https://irineuimoveis.com.br/imoveis/page/3/?_offer_type=rent&_property_type%5B0%5D=apartamento&_cidade&_price_min=R%24%2010&_price_max=R%24%2020000000&_dormitorios&_vagas_de_garagem\")"
   ]
  },
  {
   "cell_type": "code",
   "execution_count": 4,
   "metadata": {},
   "outputs": [],
   "source": [
    "r = requests.get(\"https://irineuimoveis.com.br/imoveis/page/3/?_offer_type=rent&_property_type%5B0%5D=apartamento&_cidade&_price_min=R%24%2010&_price_max=R%24%2020000000&_dormitorios&_vagas_de_garagem\")\n",
    "soup = BeautifulSoup( r.content, \"html5lib\")\n",
    "listing_divs = soup.select('div[class*=listing-item]')"
   ]
  },
  {
   "cell_type": "code",
   "execution_count": 5,
   "metadata": {},
   "outputs": [
    {
     "data": {
      "text/plain": [
       "7"
      ]
     },
     "execution_count": 5,
     "metadata": {},
     "output_type": "execute_result"
    }
   ],
   "source": [
    "len(listing_divs)"
   ]
  },
  {
   "cell_type": "code",
   "execution_count": 6,
   "metadata": {},
   "outputs": [
    {
     "data": {
      "text/plain": [
       "'R$850  mensal '"
      ]
     },
     "execution_count": 6,
     "metadata": {},
     "output_type": "execute_result"
    }
   ],
   "source": [
    "listing_divs[0].select(\"span[class*=listing-price]\")[0].text"
   ]
  },
  {
   "cell_type": "code",
   "execution_count": 9,
   "metadata": {},
   "outputs": [
    {
     "data": {
      "text/plain": [
       "'Apartamento em Floresta – IR3469'"
      ]
     },
     "execution_count": 9,
     "metadata": {},
     "output_type": "execute_result"
    }
   ],
   "source": [
    "listing_divs[0].select(\"h4\")[0].text"
   ]
  },
  {
   "cell_type": "code",
   "execution_count": 23,
   "metadata": {},
   "outputs": [
    {
     "data": {
      "text/plain": [
       "'https://irineuimoveis.com.br/imovel/apartamento-em-floresta-ir3469/'"
      ]
     },
     "execution_count": 23,
     "metadata": {},
     "output_type": "execute_result"
    }
   ],
   "source": [
    "listing_divs[0].select(\"a[class=listing-img-container]\")[0]['href']"
   ]
  },
  {
   "cell_type": "code",
   "execution_count": 8,
   "metadata": {},
   "outputs": [
    {
     "ename": "NameError",
     "evalue": "name 'imagem' is not defined",
     "output_type": "error",
     "traceback": [
      "\u001b[1;31m---------------------------------------------------------------------------\u001b[0m",
      "\u001b[1;31mNameError\u001b[0m                                 Traceback (most recent call last)",
      "\u001b[1;32m<ipython-input-8-0c3dd8736034>\u001b[0m in \u001b[0;36m<module>\u001b[1;34m\u001b[0m\n\u001b[1;32m----> 1\u001b[1;33m \u001b[0mimagem\u001b[0m\u001b[1;33m\u001b[0m\u001b[1;33m\u001b[0m\u001b[0m\n\u001b[0m",
      "\u001b[1;31mNameError\u001b[0m: name 'imagem' is not defined"
     ]
    }
   ],
   "source": [
    "\n",
    "imagem"
   ]
  },
  {
   "cell_type": "code",
   "execution_count": null,
   "metadata": {},
   "outputs": [],
   "source": []
  },
  {
   "cell_type": "code",
   "execution_count": null,
   "metadata": {},
   "outputs": [],
   "source": []
  },
  {
   "cell_type": "code",
   "execution_count": 25,
   "metadata": {},
   "outputs": [
    {
     "data": {
      "text/plain": [
       "[['R$1.000  mensal ',\n",
       "  'Apartamento ',\n",
       "  ' Itaum – IR1600',\n",
       "  'https://irineuimoveis.com.br/imovel/apartamento-em-itaum-ir1600/'],\n",
       " ['R$2.000  mensal ',\n",
       "  'Apartamento ',\n",
       "  ' Guanabara – IR4274',\n",
       "  'https://irineuimoveis.com.br/imovel/apartamento-em-guanabara-ir4274/'],\n",
       " ['R$650  mensal ',\n",
       "  'Apartamento ',\n",
       "  ' Guanabara – IR153',\n",
       "  'https://irineuimoveis.com.br/imovel/apartamento-em-guanabara-ir153/'],\n",
       " ['R$1.500  mensal ',\n",
       "  'Apartamento ',\n",
       "  ' Jardim Sofia – IR3982',\n",
       "  'https://irineuimoveis.com.br/imovel/apartamento-em-jardim-sofia-ir3982/'],\n",
       " ['R$800  mensal ',\n",
       "  'Apartamento ',\n",
       "  ' Costa e Silva – IR3921',\n",
       "  'https://irineuimoveis.com.br/imovel/apartamento-em-costa-e-silva-ir3921/'],\n",
       " ['R$700  mensal ',\n",
       "  'Apartamento ',\n",
       "  ' Itinga – IR4389',\n",
       "  'https://irineuimoveis.com.br/imovel/apartamento-em-itinga-ir4389/'],\n",
       " ['R$600  mensal ',\n",
       "  'Apartamento ',\n",
       "  ' Paranaguamirim – IR745',\n",
       "  'https://irineuimoveis.com.br/imovel/apartamento-em-paranaguamirim-ir745/']]"
      ]
     },
     "execution_count": 25,
     "metadata": {},
     "output_type": "execute_result"
    }
   ],
   "source": [
    "r = requests.get(\"https://irineuimoveis.com.br/imoveis/page/3/?_offer_type=rent&_property_type%5B0%5D=apartamento&_cidade&_price_min=R%24%2010&_price_max=R%24%2020000000&_dormitorios&_vagas_de_garagem\")\n",
    "soup = BeautifulSoup( r.content, \"html5lib\")\n",
    "list_houses = soup.select('div[class*=listing-item]')\n",
    "\n",
    "all_houses = []\n",
    "\n",
    "def parse_data(list_houses):\n",
    "    for idx in range(len(list_houses)):\n",
    "        one_house = []\n",
    "        current = list_houses[idx]\n",
    "        preco = current.select(\"span[class*=listing-price]\")[0].text\n",
    "        link = current.select(\"a[class=listing-img-container]\")[0]['href']\n",
    "        \n",
    "        tipo_bairro =  current.select(\"h4\")[0].text\n",
    "        tb = tipo_bairro.split('em')\n",
    "        tipo = tb[0]\n",
    "        bairro = tb[1]\n",
    "        \n",
    "        one_house.append(preco)\n",
    "        one_house.append(tipo)\n",
    "        one_house.append(bairro)\n",
    "        one_house.append(link)\n",
    "        \n",
    "        all_houses.append(one_house) \n",
    "    \n",
    "parse_data(list_houses)\n",
    "all_houses    "
   ]
  },
  {
   "cell_type": "code",
   "execution_count": 26,
   "metadata": {},
   "outputs": [
    {
     "data": {
      "text/plain": [
       "[['R$1.000  mensal ',\n",
       "  'Apartamento ',\n",
       "  ' Itaum – IR1600',\n",
       "  'https://irineuimoveis.com.br/imovel/apartamento-em-itaum-ir1600/'],\n",
       " ['R$2.000  mensal ',\n",
       "  'Apartamento ',\n",
       "  ' Guanabara – IR4274',\n",
       "  'https://irineuimoveis.com.br/imovel/apartamento-em-guanabara-ir4274/'],\n",
       " ['R$650  mensal ',\n",
       "  'Apartamento ',\n",
       "  ' Guanabara – IR153',\n",
       "  'https://irineuimoveis.com.br/imovel/apartamento-em-guanabara-ir153/'],\n",
       " ['R$1.500  mensal ',\n",
       "  'Apartamento ',\n",
       "  ' Jardim Sofia – IR3982',\n",
       "  'https://irineuimoveis.com.br/imovel/apartamento-em-jardim-sofia-ir3982/'],\n",
       " ['R$800  mensal ',\n",
       "  'Apartamento ',\n",
       "  ' Costa e Silva – IR3921',\n",
       "  'https://irineuimoveis.com.br/imovel/apartamento-em-costa-e-silva-ir3921/'],\n",
       " ['R$700  mensal ',\n",
       "  'Apartamento ',\n",
       "  ' Itinga – IR4389',\n",
       "  'https://irineuimoveis.com.br/imovel/apartamento-em-itinga-ir4389/'],\n",
       " ['R$600  mensal ',\n",
       "  'Apartamento ',\n",
       "  ' Paranaguamirim – IR745',\n",
       "  'https://irineuimoveis.com.br/imovel/apartamento-em-paranaguamirim-ir745/']]"
      ]
     },
     "execution_count": 26,
     "metadata": {},
     "output_type": "execute_result"
    }
   ],
   "source": [
    "all_houses"
   ]
  },
  {
   "cell_type": "code",
   "execution_count": 27,
   "metadata": {},
   "outputs": [
    {
     "data": {
      "text/html": [
       "<div>\n",
       "<style scoped>\n",
       "    .dataframe tbody tr th:only-of-type {\n",
       "        vertical-align: middle;\n",
       "    }\n",
       "\n",
       "    .dataframe tbody tr th {\n",
       "        vertical-align: top;\n",
       "    }\n",
       "\n",
       "    .dataframe thead th {\n",
       "        text-align: right;\n",
       "    }\n",
       "</style>\n",
       "<table border=\"1\" class=\"dataframe\">\n",
       "  <thead>\n",
       "    <tr style=\"text-align: right;\">\n",
       "      <th></th>\n",
       "      <th>preço</th>\n",
       "      <th>tipo</th>\n",
       "      <th>bairro</th>\n",
       "      <th>link</th>\n",
       "    </tr>\n",
       "  </thead>\n",
       "  <tbody>\n",
       "    <tr>\n",
       "      <th>0</th>\n",
       "      <td>R$1.000  mensal</td>\n",
       "      <td>Apartamento</td>\n",
       "      <td>Itaum – IR1600</td>\n",
       "      <td>https://irineuimoveis.com.br/imovel/apartament...</td>\n",
       "    </tr>\n",
       "    <tr>\n",
       "      <th>1</th>\n",
       "      <td>R$2.000  mensal</td>\n",
       "      <td>Apartamento</td>\n",
       "      <td>Guanabara – IR4274</td>\n",
       "      <td>https://irineuimoveis.com.br/imovel/apartament...</td>\n",
       "    </tr>\n",
       "    <tr>\n",
       "      <th>2</th>\n",
       "      <td>R$650  mensal</td>\n",
       "      <td>Apartamento</td>\n",
       "      <td>Guanabara – IR153</td>\n",
       "      <td>https://irineuimoveis.com.br/imovel/apartament...</td>\n",
       "    </tr>\n",
       "    <tr>\n",
       "      <th>3</th>\n",
       "      <td>R$1.500  mensal</td>\n",
       "      <td>Apartamento</td>\n",
       "      <td>Jardim Sofia – IR3982</td>\n",
       "      <td>https://irineuimoveis.com.br/imovel/apartament...</td>\n",
       "    </tr>\n",
       "    <tr>\n",
       "      <th>4</th>\n",
       "      <td>R$800  mensal</td>\n",
       "      <td>Apartamento</td>\n",
       "      <td>Costa e Silva – IR3921</td>\n",
       "      <td>https://irineuimoveis.com.br/imovel/apartament...</td>\n",
       "    </tr>\n",
       "    <tr>\n",
       "      <th>5</th>\n",
       "      <td>R$700  mensal</td>\n",
       "      <td>Apartamento</td>\n",
       "      <td>Itinga – IR4389</td>\n",
       "      <td>https://irineuimoveis.com.br/imovel/apartament...</td>\n",
       "    </tr>\n",
       "    <tr>\n",
       "      <th>6</th>\n",
       "      <td>R$600  mensal</td>\n",
       "      <td>Apartamento</td>\n",
       "      <td>Paranaguamirim – IR745</td>\n",
       "      <td>https://irineuimoveis.com.br/imovel/apartament...</td>\n",
       "    </tr>\n",
       "  </tbody>\n",
       "</table>\n",
       "</div>"
      ],
      "text/plain": [
       "              preço          tipo                   bairro  \\\n",
       "0  R$1.000  mensal   Apartamento            Itaum – IR1600   \n",
       "1  R$2.000  mensal   Apartamento        Guanabara – IR4274   \n",
       "2    R$650  mensal   Apartamento         Guanabara – IR153   \n",
       "3  R$1.500  mensal   Apartamento     Jardim Sofia – IR3982   \n",
       "4    R$800  mensal   Apartamento    Costa e Silva – IR3921   \n",
       "5    R$700  mensal   Apartamento           Itinga – IR4389   \n",
       "6    R$600  mensal   Apartamento    Paranaguamirim – IR745   \n",
       "\n",
       "                                                link  \n",
       "0  https://irineuimoveis.com.br/imovel/apartament...  \n",
       "1  https://irineuimoveis.com.br/imovel/apartament...  \n",
       "2  https://irineuimoveis.com.br/imovel/apartament...  \n",
       "3  https://irineuimoveis.com.br/imovel/apartament...  \n",
       "4  https://irineuimoveis.com.br/imovel/apartament...  \n",
       "5  https://irineuimoveis.com.br/imovel/apartament...  \n",
       "6  https://irineuimoveis.com.br/imovel/apartament...  "
      ]
     },
     "execution_count": 27,
     "metadata": {},
     "output_type": "execute_result"
    }
   ],
   "source": [
    "pd.DataFrame(all_houses, columns=['preço','tipo','bairro','link'])"
   ]
  },
  {
   "cell_type": "code",
   "execution_count": null,
   "metadata": {},
   "outputs": [],
   "source": []
  },
  {
   "cell_type": "code",
   "execution_count": null,
   "metadata": {},
   "outputs": [],
   "source": []
  }
 ],
 "metadata": {
  "kernelspec": {
   "display_name": "Python 3",
   "language": "python",
   "name": "python3"
  },
  "language_info": {
   "codemirror_mode": {
    "name": "ipython",
    "version": 3
   },
   "file_extension": ".py",
   "mimetype": "text/x-python",
   "name": "python",
   "nbconvert_exporter": "python",
   "pygments_lexer": "ipython3",
   "version": "3.7.6"
  }
 },
 "nbformat": 4,
 "nbformat_minor": 4
}
